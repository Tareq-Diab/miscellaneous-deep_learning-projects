{
 "cells": [
  {
   "cell_type": "markdown",
   "metadata": {},
   "source": [
    "# importing data "
   ]
  },
  {
   "cell_type": "code",
   "execution_count": 1,
   "metadata": {
    "collapsed": true
   },
   "outputs": [],
   "source": [
    "data_directory ='cifar-10-batches-py/'"
   ]
  },
  {
   "cell_type": "markdown",
   "metadata": {},
   "source": [
    "### the data is \"pickled\"\n",
    "### so we have to unpickle them\n",
    "the flolowing scrept can be found at https://www.cs.toronto.edu/~kriz/cifar.html"
   ]
  },
  {
   "cell_type": "code",
   "execution_count": 2,
   "metadata": {
    "collapsed": true
   },
   "outputs": [],
   "source": [
    "def unpickle(file):\n",
    "    import pickle\n",
    "    with open(file, 'rb') as fo:\n",
    "        cifar_dict = pickle.load(fo, encoding='bytes')\n",
    "    return cifar_dict"
   ]
  },
  {
   "cell_type": "code",
   "execution_count": 3,
   "metadata": {
    "collapsed": true
   },
   "outputs": [],
   "source": [
    "import os\n",
    "os.chdir(data_directory)\n",
    "all_data=os.listdir()\n",
    "os.chdir('..')"
   ]
  },
  {
   "cell_type": "code",
   "execution_count": 4,
   "metadata": {},
   "outputs": [
    {
     "data": {
      "text/plain": [
       "['batches.meta',\n",
       " 'data_batch_1',\n",
       " 'data_batch_2',\n",
       " 'data_batch_3',\n",
       " 'data_batch_4',\n",
       " 'data_batch_5',\n",
       " 'test_batch']"
      ]
     },
     "execution_count": 4,
     "metadata": {},
     "output_type": "execute_result"
    }
   ],
   "source": [
    "all_data"
   ]
  },
  {
   "cell_type": "code",
   "execution_count": 5,
   "metadata": {},
   "outputs": [],
   "source": [
    "batches=[]\n",
    "for data_batch in all_data:\n",
    "    batches.append(unpickle(data_directory+data_batch))\n",
    "    \n"
   ]
  },
  {
   "cell_type": "code",
   "execution_count": null,
   "metadata": {
    "collapsed": true
   },
   "outputs": [],
   "source": []
  },
  {
   "cell_type": "code",
   "execution_count": 6,
   "metadata": {
    "collapsed": true
   },
   "outputs": [],
   "source": [
    "#which will out put a list of dictionaries"
   ]
  },
  {
   "cell_type": "markdown",
   "metadata": {},
   "source": [
    "# experimting and understanding CIFAR 10 data set"
   ]
  },
  {
   "cell_type": "markdown",
   "metadata": {},
   "source": [
    "#### under standing images \n"
   ]
  },
  {
   "cell_type": "code",
   "execution_count": 7,
   "metadata": {},
   "outputs": [
    {
     "data": {
      "text/plain": [
       "{b'label_names': [b'airplane',\n",
       "  b'automobile',\n",
       "  b'bird',\n",
       "  b'cat',\n",
       "  b'deer',\n",
       "  b'dog',\n",
       "  b'frog',\n",
       "  b'horse',\n",
       "  b'ship',\n",
       "  b'truck'],\n",
       " b'num_cases_per_batch': 10000,\n",
       " b'num_vis': 3072}"
      ]
     },
     "execution_count": 7,
     "metadata": {},
     "output_type": "execute_result"
    }
   ],
   "source": [
    "batches[0]"
   ]
  },
  {
   "cell_type": "code",
   "execution_count": 8,
   "metadata": {},
   "outputs": [
    {
     "data": {
      "text/plain": [
       "dict_keys([b'data', b'labels', b'filenames', b'batch_label'])"
      ]
     },
     "execution_count": 8,
     "metadata": {},
     "output_type": "execute_result"
    }
   ],
   "source": [
    "batches[1].keys()"
   ]
  },
  {
   "cell_type": "code",
   "execution_count": 9,
   "metadata": {},
   "outputs": [
    {
     "data": {
      "text/plain": [
       "(10000, 3072)"
      ]
     },
     "execution_count": 9,
     "metadata": {},
     "output_type": "execute_result"
    }
   ],
   "source": [
    "batches[6][ b'data'].shape"
   ]
  },
  {
   "cell_type": "code",
   "execution_count": 10,
   "metadata": {},
   "outputs": [
    {
     "data": {
      "text/plain": [
       "b'training batch 1 of 5'"
      ]
     },
     "execution_count": 10,
     "metadata": {},
     "output_type": "execute_result"
    }
   ],
   "source": [
    "batches[1][b'batch_label']\n"
   ]
  },
  {
   "cell_type": "markdown",
   "metadata": {},
   "source": [
    "Loaded in this way, each of the batch files contains a dictionary with the following elements:\n",
    "* data -- a 10000x3072 numpy array of uint8s. Each row of the array stores a 32x32 colour image. The first 1024 entries contain the red channel values, the next 1024 the green, and the final 1024 the blue. The image is stored in row-major order, so that the first 32 entries of the array are the red channel values of the first row of the image.\n",
    "* labels -- a list of 10000 numbers in the range 0-9. The number at index i indicates the label of the ith image in the array data.\n",
    "\n",
    "The dataset contains another file, called batches.meta. It too contains a Python dictionary object. It has the following entries:\n",
    "\n",
    "* label_names -- a 10-element list which gives meaningful names to the numeric labels in the labels array described above. For example, label_names[0] == \"airplane\", label_names[1] == \"automobile\", etc."
   ]
  },
  {
   "cell_type": "code",
   "execution_count": 11,
   "metadata": {
    "scrolled": true
   },
   "outputs": [
    {
     "data": {
      "text/plain": [
       "[b'airplane',\n",
       " b'automobile',\n",
       " b'bird',\n",
       " b'cat',\n",
       " b'deer',\n",
       " b'dog',\n",
       " b'frog',\n",
       " b'horse',\n",
       " b'ship',\n",
       " b'truck']"
      ]
     },
     "execution_count": 11,
     "metadata": {},
     "output_type": "execute_result"
    }
   ],
   "source": [
    "batches[0][b'label_names']"
   ]
  },
  {
   "cell_type": "code",
   "execution_count": 12,
   "metadata": {},
   "outputs": [
    {
     "data": {
      "text/plain": [
       "(3072,)"
      ]
     },
     "execution_count": 12,
     "metadata": {},
     "output_type": "execute_result"
    }
   ],
   "source": [
    "batches[1][ b'data'][0].shape"
   ]
  },
  {
   "cell_type": "code",
   "execution_count": 13,
   "metadata": {},
   "outputs": [],
   "source": [
    "import numpy as np\n",
    "red=np.reshape(batches[1][ b'data'][0][0:1024],[32,32])\n",
    "green=np.reshape(batches[1][ b'data'][0][1024:(1024+1024)],[32,32])\n",
    "blue=np.reshape(batches[1][ b'data'][0][(1024+1024):(1024+1024+1024)],[32,32])"
   ]
  },
  {
   "cell_type": "code",
   "execution_count": 14,
   "metadata": {
    "collapsed": true
   },
   "outputs": [],
   "source": [
    "import matplotlib.pyplot as plt\n",
    "%matplotlib inline"
   ]
  },
  {
   "cell_type": "code",
   "execution_count": 15,
   "metadata": {},
   "outputs": [
    {
     "data": {
      "text/plain": [
       "<matplotlib.image.AxesImage at 0x230ef1ed4a8>"
      ]
     },
     "execution_count": 15,
     "metadata": {},
     "output_type": "execute_result"
    },
    {
     "data": {
      "image/png": "[encoded data removed]",
      "text/plain": [
       "<matplotlib.figure.Figure at 0x230ee6c7be0>"
      ]
     },
     "metadata": {},
     "output_type": "display_data"
    }
   ],
   "source": [
    "plt.imshow(blue)"
   ]
  },
  {
   "cell_type": "code",
   "execution_count": 16,
   "metadata": {},
   "outputs": [
    {
     "data": {
      "text/plain": [
       "<matplotlib.image.AxesImage at 0x230ef29f0f0>"
      ]
     },
     "execution_count": 16,
     "metadata": {},
     "output_type": "execute_result"
    },
    {
     "data": {
      "image/png": "[encoded data removed]",
      "text/plain": [
       "<matplotlib.figure.Figure at 0x230ef218e48>"
      ]
     },
     "metadata": {},
     "output_type": "display_data"
    }
   ],
   "source": [
    "plt.imshow((np.transpose(np.array((red,green,blue)))))"
   ]
  },
  {
   "cell_type": "code",
   "execution_count": 17,
   "metadata": {},
   "outputs": [
    {
     "data": {
      "text/plain": [
       "<matplotlib.image.AxesImage at 0x230ef5397b8>"
      ]
     },
     "execution_count": 17,
     "metadata": {},
     "output_type": "execute_result"
    },
    {
     "data": {
      "image/png": "[encoded data removed]",
      "text/plain": [
       "<matplotlib.figure.Figure at 0x230ef2b4550>"
      ]
     },
     "metadata": {},
     "output_type": "display_data"
    }
   ],
   "source": [
    "plt.imshow((np.transpose(np.array((red,green,blue)))).transpose(1,0,2))\n",
    "#transpose  takes the new axis index"
   ]
  },
  {
   "cell_type": "code",
   "execution_count": 18,
   "metadata": {},
   "outputs": [
    {
     "data": {
      "text/plain": [
       "(10000, 32, 32, 3)"
      ]
     },
     "execution_count": 18,
     "metadata": {},
     "output_type": "execute_result"
    }
   ],
   "source": [
    "batch1_images=batches[1][ b'data']\n",
    "batch1_images = batch1_images.reshape(10000, 3, 32, 32).transpose(0,2,3,1)\n",
    "batch1_images.shape"
   ]
  },
  {
   "cell_type": "code",
   "execution_count": 19,
   "metadata": {},
   "outputs": [
    {
     "data": {
      "text/plain": [
       "(32, 32, 3)"
      ]
     },
     "execution_count": 19,
     "metadata": {},
     "output_type": "execute_result"
    },
    {
     "data": {
      "image/png": "[encoded data removed]",
      "text/plain": [
       "<matplotlib.figure.Figure at 0x230ef2e4940>"
      ]
     },
     "metadata": {},
     "output_type": "display_data"
    }
   ],
   "source": [
    "plt.imshow(batch1_images[0])\n",
    "batch1_images[0].shape"
   ]
  },
  {
   "cell_type": "markdown",
   "metadata": {},
   "source": [
    "# showing random  images"
   ]
  },
  {
   "cell_type": "code",
   "execution_count": 20,
   "metadata": {},
   "outputs": [
    {
     "data": {
      "image/png": "[encoded data removed]",
      "text/plain": [
       "<matplotlib.figure.Figure at 0x230ef5b49e8>"
      ]
     },
     "metadata": {},
     "output_type": "display_data"
    }
   ],
   "source": [
    "fig, axs = plt.subplots(3, 3, figsize=(5,5))\n",
    "i=0\n",
    "for r in range(3):\n",
    "    for c in range(3):\n",
    "        axs[r,c].imshow(batch1_images[i])\n",
    "        i+=1\n"
   ]
  },
  {
   "cell_type": "markdown",
   "metadata": {},
   "source": [
    "#### under standing labels\n",
    "labels gives a number between 0 and 10  to refer to one of the difrent 10 classes"
   ]
  },
  {
   "cell_type": "code",
   "execution_count": 21,
   "metadata": {},
   "outputs": [
    {
     "data": {
      "text/plain": [
       "[6, 9, 9, 4, 1, 1, 2, 7, 8, 3]"
      ]
     },
     "execution_count": 21,
     "metadata": {},
     "output_type": "execute_result"
    }
   ],
   "source": [
    "#sample of the labels\n",
    "batches[1][b'labels'][0:10]\n"
   ]
  },
  {
   "cell_type": "markdown",
   "metadata": {},
   "source": [
    "#####  creating a function to on ehot encode the labels"
   ]
  },
  {
   "cell_type": "code",
   "execution_count": 22,
   "metadata": {
    "collapsed": true
   },
   "outputs": [],
   "source": [
    "def one_hot(nums):\n",
    "    n=len(nums)\n",
    "    out=np.zeros([n,10])\n",
    "    out[range(n),nums]=1\n",
    "    return out\n",
    "    "
   ]
  },
  {
   "cell_type": "code",
   "execution_count": 23,
   "metadata": {},
   "outputs": [],
   "source": [
    "x=batches[1][b'labels'][0:10]"
   ]
  },
  {
   "cell_type": "code",
   "execution_count": 24,
   "metadata": {},
   "outputs": [
    {
     "name": "stdout",
     "output_type": "stream",
     "text": [
      "[[ 0.  0.  0.  0.  0.  0.  1.  0.  0.  0.]\n",
      " [ 0.  0.  0.  0.  0.  0.  0.  0.  0.  1.]\n",
      " [ 0.  0.  0.  0.  0.  0.  0.  0.  0.  1.]\n",
      " [ 0.  0.  0.  0.  1.  0.  0.  0.  0.  0.]\n",
      " [ 0.  1.  0.  0.  0.  0.  0.  0.  0.  0.]\n",
      " [ 0.  1.  0.  0.  0.  0.  0.  0.  0.  0.]\n",
      " [ 0.  0.  1.  0.  0.  0.  0.  0.  0.  0.]\n",
      " [ 0.  0.  0.  0.  0.  0.  0.  1.  0.  0.]\n",
      " [ 0.  0.  0.  0.  0.  0.  0.  0.  1.  0.]\n",
      " [ 0.  0.  0.  1.  0.  0.  0.  0.  0.  0.]]\n"
     ]
    }
   ],
   "source": [
    "print(one_hot(x))"
   ]
  },
  {
   "cell_type": "markdown",
   "metadata": {},
   "source": [
    "### correlate between labels and their meanins"
   ]
  },
  {
   "cell_type": "code",
   "execution_count": 25,
   "metadata": {},
   "outputs": [
    {
     "data": {
      "text/plain": [
       "{0: b'airplane',\n",
       " 1: b'automobile',\n",
       " 2: b'bird',\n",
       " 3: b'cat',\n",
       " 4: b'deer',\n",
       " 5: b'dog',\n",
       " 6: b'frog',\n",
       " 7: b'horse',\n",
       " 8: b'ship',\n",
       " 9: b'truck'}"
      ]
     },
     "execution_count": 25,
     "metadata": {},
     "output_type": "execute_result"
    }
   ],
   "source": [
    "correlation={}\n",
    "for n,name in enumerate(batches[0][b'label_names']):\n",
    "    correlation[n]=name\n",
    "correlation"
   ]
  },
  {
   "cell_type": "code",
   "execution_count": 26,
   "metadata": {},
   "outputs": [
    {
     "name": "stdout",
     "output_type": "stream",
     "text": [
      "b'frog'\n",
      "b'truck'\n",
      "b'truck'\n",
      "b'deer'\n",
      "b'automobile'\n",
      "b'automobile'\n",
      "b'bird'\n",
      "b'horse'\n",
      "b'ship'\n"
     ]
    }
   ],
   "source": [
    "for i in batches[1][b'labels'][0:9] :\n",
    "    print(correlation[i])"
   ]
  },
  {
   "cell_type": "markdown",
   "metadata": {},
   "source": [
    "# ctreating class to handel data , labels and next function method"
   ]
  },
  {
   "cell_type": "code",
   "execution_count": 27,
   "metadata": {},
   "outputs": [
    {
     "data": {
      "text/plain": [
       "(50000, 3072)"
      ]
     },
     "execution_count": 27,
     "metadata": {},
     "output_type": "execute_result"
    }
   ],
   "source": [
    "#Clarification of loading and np v stacking\n",
    "s=[d[b'data'] for d in batches[1:6]]\n",
    "np.vstack(s).shape"
   ]
  },
  {
   "cell_type": "code",
   "execution_count": 28,
   "metadata": {
    "collapsed": true
   },
   "outputs": [],
   "source": [
    "class cifar_loader(object):\n",
    "    def __init__(self,Data_path):\n",
    "        self.PATH=Data_path\n",
    "        self._i=0\n",
    "        self.images=None\n",
    "        self.labels=None\n",
    "        self.test_images=None\n",
    "        self.test_labels=None\n",
    "\n",
    "        \n",
    "    def load(self):# used to load the data after definig the object\n",
    "        os.chdir(self.PATH)\n",
    "        all_data=os.listdir()\n",
    "        os.chdir('..')\n",
    "        data=[unpickle(self.PATH+f) for f in all_data ]\n",
    "        img=np.vstack([d[b'data']for d in data[1:6]]) #specifing 1 : 6  to avoid searching b\"data\" in the firs dictionary which dosent have this key\n",
    "        n=len(img)\n",
    "        self.images=img.reshape(n,3,32,32).transpose(0,2,3,1)/255\n",
    "        self.labels=one_hot(np.hstack([d[b'labels'] for d in data[1:6]]))\n",
    "        \n",
    "        \n",
    "        img=np.vstack([data[6][b'data']]) #specifing 1 : 6  to avoid searching b\"data\" in the firs dictionary which dosent have this key\n",
    "        n=len(img)\n",
    "        self.test_images=img.reshape(n,3,32,32).transpose(0,2,3,1)/255\n",
    "        self.test_labels=one_hot(np.hstack([data[6][b'labels']]))\n",
    "\n",
    "    def next_batch(self,batch_size):#used by the object in the training sessions\n",
    "        x,y=self.images[self._i:self._i+batch_size].reshape(batch_size,32,32,3),self.labels[self._i:self._i+batch_size]\n",
    "        self._i= (self._i+batch_size)%len(self.images)\n",
    "        return x,y\n",
    "    \n",
    "    def unpickle(file):\n",
    "        import pickle\n",
    "        with open(file, 'rb') as fo:\n",
    "            cifar_dict = pickle.load(fo, encoding='bytes')\n",
    "        return cifar_dict\n",
    "    \n",
    "    def one_hot(nums,vals=10):\n",
    "        n=len(nums)\n",
    "        out=np.zeros([n,vals])\n",
    "        out[range(n),nums]=1\n",
    "        return out\n",
    "    "
   ]
  },
  {
   "cell_type": "code",
   "execution_count": 29,
   "metadata": {
    "collapsed": true
   },
   "outputs": [],
   "source": [
    "cifar10=cifar_loader(data_directory)\n",
    "cifar10.load()"
   ]
  },
  {
   "cell_type": "code",
   "execution_count": 30,
   "metadata": {},
   "outputs": [],
   "source": [
    "training_images=cifar10.images\n",
    "training_labels=cifar10.labels\n",
    "testing_images=cifar10.test_images\n",
    "testing_labels=cifar10.test_labels"
   ]
  },
  {
   "cell_type": "code",
   "execution_count": 31,
   "metadata": {},
   "outputs": [
    {
     "name": "stdout",
     "output_type": "stream",
     "text": [
      "(50000, 32, 32, 3)\n",
      "(50000, 10)\n",
      "(10000, 32, 32, 3)\n",
      "(10000, 10)\n"
     ]
    }
   ],
   "source": [
    "print(training_images.shape)\n",
    "print(training_labels.shape)\n",
    "print(testing_images.shape)\n",
    "print(testing_labels.shape)"
   ]
  },
  {
   "cell_type": "code",
   "execution_count": 32,
   "metadata": {},
   "outputs": [
    {
     "name": "stdout",
     "output_type": "stream",
     "text": [
      "(5000, 32, 32, 3)\n",
      "(5000, 10)\n",
      "(5000, 32, 32, 3)\n",
      "(5000, 10)\n"
     ]
    }
   ],
   "source": [
    "evlauation_images=cifar10.test_images[5000:10000]\n",
    "evaluation_labels=cifar10.test_labels[5000:10000]\n",
    "testing_images=cifar10.test_images[0:5000]\n",
    "testing_labels=cifar10.test_labels[0:5000]\n",
    "print(evlauation_images.shape)\n",
    "print(evaluation_labels.shape)\n",
    "print(testing_images.shape)\n",
    "print(testing_labels.shape)"
   ]
  },
  {
   "cell_type": "markdown",
   "metadata": {},
   "source": [
    "# CREATING THE MODEL"
   ]
  },
  {
   "cell_type": "code",
   "execution_count": 33,
   "metadata": {
    "collapsed": true
   },
   "outputs": [],
   "source": [
    "\n",
    "import tensorflow as tf"
   ]
  },
  {
   "cell_type": "code",
   "execution_count": 35,
   "metadata": {},
   "outputs": [],
   "source": [
    "\n",
    "                                                     # helper functions\n",
    "\n",
    "# weights\n",
    "def init_weights(shape,stddev=0.1):\n",
    "    weights=tf.truncated_normal(shape=shape,stddev=stddev)\n",
    "    return tf.Variable(weights)\n",
    "    \n",
    "# biases\n",
    "def init_bias(shape,stddev=0.1):\n",
    "    init_bias_vals=tf.constant(value=0.1,shape=shape)\n",
    "    return tf.Variable(init_bias_vals)\n",
    "    \n",
    "# conv\n",
    "def conv2d(input_tensor,kernal_weights,strides=[1,1,1,1]):\n",
    "    #input_tensor is the image or a convoulution of image , it takes[batch_size,Heigh,Width,Color_Channels]\n",
    "    \n",
    "    #Kernal it is the filter representing the convolution layer , it takes [filter H ,filter W,Channels IN,CHANNELS OUT]\n",
    "    \n",
    "    #Channels IN : when dealling with input from image it's channels will be 3  which are the colors, but when dealing with \n",
    "    #input from convolution the channels will be layers of abstracted featers filtered by the previously constracted convolution\n",
    "    \n",
    "    #Channel OUT is the number of filters where :(every filter will output or recogize single feature )\n",
    "    #strides shifting the cernal by stride number of pixels\n",
    "    return tf.nn.conv2d(input=input_tensor,filter=kernal_weights,strides=strides,padding=\"SAME\")\n",
    "# conv layer\n",
    "def convolution_layer(input_tensor,kernal):\n",
    "    w=init_weights(kernal)\n",
    "    b=init_bias([kernal[3]])#same size as the output channels\n",
    "    return tf.nn.relu(conv2d(input_tensor,w)+b)\n",
    "# pooling\n",
    "def max_pool_2x2(input_tensor):\n",
    "    #input_tensor is the image or a convoulution of image , it takes[batch_size,Heigh,Width,Color_Channels]\n",
    "    return tf.nn.max_pool(value=input_tensor,ksize=[1,2,2,1],strides=[1,2,2,1],padding=\"SAME\")\n",
    "    #[1,2,2,1] to max pool by value of 2x2 pixels but not pooling from 2 ifferey batches or channels\n",
    "\n",
    "# fully connected layer\n",
    "\n",
    "#this layers takes the featerures abstracted by the convoulution layer and make the ordinary classification on it \n",
    "def fully_connected_layer(input_tensor,size):\n",
    "    \"\"\"\n",
    "    #Kernal it is the filter representing the convolution layer , it takes [filter H ,filter W,Channels IN,CHANNELS OUT]\n",
    "    \n",
    "    #Channels IN : when dealling with input from image it's channels will be 3  which are the colors, but when dealing with \n",
    "    #input from convolution the channels will be layers of abstracted featers filtered by the previously constracted convolution\n",
    "    \n",
    "    #Channel OUT is the number of filters where :(every filter will output or recogize single feature )\n",
    "    \"\"\"\n",
    "    input_shape=int(input_tensor.get_shape()[1])\n",
    "    \n",
    "    w=init_weights([input_shape,size])\n",
    "    b=init_bias(shape=[size])\n",
    "    return tf.add(tf.matmul(input_tensor,w),b)"
   ]
  },
  {
   "cell_type": "code",
   "execution_count": 39,
   "metadata": {},
   "outputs": [],
   "source": [
    "                                                       # model \n",
    "#placeholders\n",
    "images_ph=tf.placeholder(tf.float32,shape=[None,32,32,3])\n",
    "labels_ph=tf.placeholder(tf.float32,shape=[None,10])\n",
    "drop_out_ph=tf.placeholder(tf.float32)\n",
    "\n",
    "\n",
    "\n",
    "CNL_1=convolution_layer(images_ph,[4,4,3,32])\n",
    "\n",
    "pool_layer_1=max_pool_2x2(CNL_1)\n",
    "\n",
    "CNL_2=convolution_layer(pool_layer_1,[4,4,32,64])\n",
    "\n",
    "pool_layer_2=max_pool_2x2(CNL_2)\n",
    "\n",
    "flat_layer=tf.reshape(pool_layer_2,shape=[-1,8*8*64])\n",
    "\n",
    "DNL_1=tf.nn.relu(fully_connected_layer(flat_layer,size=1024))\n",
    "\n",
    "drop_out_layer=tf.nn.dropout(DNL_1,keep_prob=drop_out_ph)\n",
    "\n",
    "DNL_learned=fully_connected_layer(drop_out_layer,size=10)\n"
   ]
  },
  {
   "cell_type": "code",
   "execution_count": 40,
   "metadata": {},
   "outputs": [],
   "source": [
    "                                                    #tuning method\n",
    "#loss function\n",
    "cross_entropy=tf.reduce_mean(tf.nn.softmax_cross_entropy_with_logits(labels=labels_ph,logits=DNL_learned))\n",
    "#optimizer\n",
    "optimizer=tf.train.AdamOptimizer()\n",
    "train=optimizer.minimize(cross_entropy)\n",
    "#initiate vrables\n",
    "init=tf.global_variables_initializer()\n"
   ]
  },
  {
   "cell_type": "code",
   "execution_count": 41,
   "metadata": {},
   "outputs": [
    {
     "name": "stdout",
     "output_type": "stream",
     "text": [
      "WARNING:tensorflow:From <ipython-input-41-233fbf79f48a>:15: arg_max (from tensorflow.python.ops.gen_math_ops) is deprecated and will be removed in a future version.\n",
      "Instructions for updating:\n",
      "Use `argmax` instead\n",
      "step: 0\n",
      "model accuracy :  0.0754\n",
      "step: 1000\n",
      "model accuracy :  0.5804\n",
      "step: 2000\n",
      "model accuracy :  0.6442\n",
      "step: 3000\n",
      "model accuracy :  0.671\n",
      "step: 4000\n",
      "model accuracy :  0.6754\n"
     ]
    }
   ],
   "source": [
    "\n",
    "saver = tf.train.Saver()\n",
    "batch_size=50\n",
    "training_steps=5000 # it will see all the data twice\n",
    "with tf.Session() as sess :\n",
    "    sess.run(init)\n",
    "    for i in range(training_steps):\n",
    "        \n",
    "        d,l=cifar10.next_batch(batch_size)\n",
    "        \n",
    "        sess.run(train,feed_dict={images_ph:d,labels_ph:l,drop_out_ph:0.5})\n",
    "        \n",
    "        \n",
    "        if i % 1000 == 0:\n",
    "            matches =tf.equal(tf.argmax(DNL_learned,1),tf.arg_max(labels_ph,1))\n",
    "            accuracy=tf.reduce_mean(tf.cast(matches,tf.float32))\n",
    "            print(\"step:\",i)\n",
    "            print(\"model accuracy : \",sess.run(accuracy,feed_dict={labels_ph:testing_labels,images_ph:testing_images,drop_out_ph:1.0}))\n",
    "        \n",
    "    saver.save(sess,\"cifar10_cnn/cnn_cifar10.ckpt\")\n"
   ]
  },
  {
   "cell_type": "markdown",
   "metadata": {},
   "source": [
    "#### this model won't show much emprovement over time "
   ]
  },
  {
   "cell_type": "markdown",
   "metadata": {},
   "source": [
    "#### model 2 i will increase the fully connected layer size to 2048 "
   ]
  },
  {
   "cell_type": "code",
   "execution_count": 56,
   "metadata": {
    "collapsed": true
   },
   "outputs": [],
   "source": [
    "                                                       # model 2\n",
    "#placeholders\n",
    "images_ph=tf.placeholder(tf.float32,shape=[None,32,32,3])\n",
    "labels_ph=tf.placeholder(tf.float32,shape=[None,10])\n",
    "drop_out_ph=tf.placeholder(tf.float32)\n",
    "\n",
    "\n",
    "CNL_1=convolution_layer(images_ph,[4,4,3,32])\n",
    "\n",
    "pool_layer_1=max_pool_2x2(CNL_1)\n",
    "\n",
    "CNL_2=convolution_layer(pool_layer_1,[4,4,32,64])\n",
    "\n",
    "pool_layer_2=max_pool_2x2(CNL_2)\n",
    "\n",
    "flat_layer=tf.reshape(pool_layer_2,shape=[-1,8*8*64])\n",
    "\n",
    "DNL_1=tf.nn.relu(fully_connected_layer(flat_layer,size=2048))\n",
    "\n",
    "drop_out_layer=tf.nn.dropout(DNL_1,keep_prob=drop_out_ph)\n",
    "\n",
    "DNL_learned=fully_connected_layer(drop_out_layer,size=10)\n"
   ]
  },
  {
   "cell_type": "code",
   "execution_count": 57,
   "metadata": {
    "collapsed": true
   },
   "outputs": [],
   "source": [
    "                                                    #tuning method\n",
    "#loss function\n",
    "cross_entropy=tf.reduce_mean(tf.nn.softmax_cross_entropy_with_logits(labels=labels_ph,logits=DNL_learned))\n",
    "#optimizer\n",
    "optimizer=tf.train.AdamOptimizer()\n",
    "train=optimizer.minimize(cross_entropy)\n",
    "#initiate vrables\n",
    "init=tf.global_variables_initializer()"
   ]
  },
  {
   "cell_type": "code",
   "execution_count": 59,
   "metadata": {},
   "outputs": [
    {
     "name": "stdout",
     "output_type": "stream",
     "text": [
      "step: 0\n",
      "model accuracy :  0.103\n",
      "step: 1000\n",
      "model accuracy :  0.5528\n",
      "step: 2000\n",
      "model accuracy :  0.6172\n",
      "step: 3000\n",
      "model accuracy :  0.6514\n",
      "step: 4000\n",
      "model accuracy :  0.6646\n",
      "step: 5000\n",
      "model accuracy :  0.6594\n",
      "step: 6000\n",
      "model accuracy :  0.66\n",
      "step: 7000\n",
      "model accuracy :  0.6652\n",
      "step: 8000\n",
      "model accuracy :  0.667\n",
      "step: 9000\n",
      "model accuracy :  0.6698\n"
     ]
    }
   ],
   "source": [
    "saver = tf.train.Saver()\n",
    "batch_size=50\n",
    "training_steps=10000 # it will see all the data twice\n",
    "with tf.Session() as sess :\n",
    "    sess.run(init)\n",
    "    for i in range(training_steps):\n",
    "        \n",
    "        d,l=cifar10.next_batch(batch_size)\n",
    "        \n",
    "        sess.run(train,feed_dict={images_ph:d,labels_ph:l,drop_out_ph:0.5})\n",
    "        \n",
    "        \n",
    "        if i % 1000 == 0:\n",
    "            matches =tf.equal(tf.argmax(DNL_learned,1),tf.arg_max(labels_ph,1))\n",
    "            accuracy=tf.reduce_mean(tf.cast(matches,tf.float32))\n",
    "            print(\"step:\",i)\n",
    "            print(\"model accuracy : \",sess.run(accuracy,feed_dict={labels_ph:testing_labels,images_ph:testing_images,drop_out_ph:1.0}))\n",
    "        \n",
    "    saver.save(sess,\"cifar10_cnn/cnn_cifar10.ckpt\")"
   ]
  },
  {
   "cell_type": "markdown",
   "metadata": {},
   "source": [
    "#### this model did worse than before "
   ]
  },
  {
   "cell_type": "markdown",
   "metadata": {},
   "source": [
    "#### model three with more consecutive convolution layers "
   ]
  },
  {
   "cell_type": "code",
   "execution_count": 35,
   "metadata": {},
   "outputs": [],
   "source": [
    "                                                       # model 3\n",
    "#placeholders\n",
    "images_ph=tf.placeholder(tf.float32,shape=[None,32,32,3])\n",
    "labels_ph=tf.placeholder(tf.float32,shape=[None,10])\n",
    "drop_out_ph=tf.placeholder(tf.float32)\n",
    "\n",
    "\n",
    "CNL_1=convolution_layer(images_ph,[4,4,3,32])\n",
    "CNL_2=convolution_layer(CNL_1,[4,4,32,32])\n",
    "CNL_3=convolution_layer(CNL_2,[4,4,32,32])\n",
    "\n",
    "pool_layer_1=max_pool_2x2(CNL_3)\n",
    "\n",
    "CNL_4=convolution_layer(pool_layer_1,[4,4,32,64])\n",
    "CNL_5=convolution_layer(CNL_4,[4,4,64,64])\n",
    "CNL_6=convolution_layer(CNL_5,[4,4,64,64])\n",
    "\n",
    "pool_layer_2=max_pool_2x2(CNL_6)\n",
    "\n",
    "flat_layer=tf.reshape(pool_layer_2,shape=[-1,8*8*64])\n",
    "\n",
    "DNL_1=tf.nn.relu(fully_connected_layer(flat_layer,size=2048))\n",
    "\n",
    "drop_out_layer=tf.nn.dropout(DNL_1,keep_prob=drop_out_ph)\n",
    "\n",
    "DNL_learned=fully_connected_layer(drop_out_layer,size=10)\n"
   ]
  },
  {
   "cell_type": "code",
   "execution_count": 36,
   "metadata": {},
   "outputs": [
    {
     "name": "stdout",
     "output_type": "stream",
     "text": [
      "WARNING:tensorflow:From <ipython-input-36-b758b911102b>:3: softmax_cross_entropy_with_logits (from tensorflow.python.ops.nn_ops) is deprecated and will be removed in a future version.\n",
      "Instructions for updating:\n",
      "\n",
      "Future major versions of TensorFlow will allow gradients to flow\n",
      "into the labels input on backprop by default.\n",
      "\n",
      "See @{tf.nn.softmax_cross_entropy_with_logits_v2}.\n",
      "\n"
     ]
    }
   ],
   "source": [
    "                                                    #tuning method\n",
    "#loss function\n",
    "cross_entropy=tf.reduce_mean(tf.nn.softmax_cross_entropy_with_logits(labels=labels_ph,logits=DNL_learned))\n",
    "#optimizer\n",
    "optimizer=tf.train.AdamOptimizer()\n",
    "train=optimizer.minimize(cross_entropy)\n",
    "#initiate vrables\n",
    "init=tf.global_variables_initializer()"
   ]
  },
  {
   "cell_type": "code",
   "execution_count": 41,
   "metadata": {},
   "outputs": [],
   "source": [
    "                                                       # model 4\n",
    "#placeholders\n",
    "images_ph=tf.placeholder(tf.float32,shape=[None,32,32,3],name=\"images_ph\")\n",
    "labels_ph=tf.placeholder(tf.float32,shape=[None,10],name=\"labels_ph\")\n",
    "drop_out_ph=tf.placeholder(tf.float32,name=\"drop_out_ph\")\n",
    "\n",
    "\n",
    "CNL_1=convolution_layer(images_ph,[4,4,3,32])\n",
    "CNL_2=convolution_layer(CNL_1,[4,4,32,32])\n",
    "CNL_3=convolution_layer(CNL_2,[4,4,32,32])\n",
    "\n",
    "pool_layer_1=max_pool_2x2(CNL_3)\n",
    "\n",
    "CNL_4=convolution_layer(pool_layer_1,[4,4,32,64])\n",
    "CNL_5=convolution_layer(CNL_4,[4,4,64,64])\n",
    "CNL_6=convolution_layer(CNL_5,[4,4,64,64])\n",
    "\n",
    "pool_layer_2=max_pool_2x2(CNL_6)\n",
    "\n",
    "flat_layer=tf.reshape(pool_layer_2,shape=[-1,8*8*64])\n",
    "\n",
    "DNL_1=tf.nn.relu(fully_connected_layer(flat_layer,size=1024))\n",
    "\n",
    "drop_out_layer=tf.nn.dropout(DNL_1,keep_prob=drop_out_ph)\n",
    "\n",
    "DNL_learned=fully_connected_layer(drop_out_layer,size=10)"
   ]
  },
  {
   "cell_type": "code",
   "execution_count": 42,
   "metadata": {},
   "outputs": [],
   "source": [
    "                                                    #tuning method\n",
    "#loss function\n",
    "cross_entropy=tf.reduce_mean(tf.nn.softmax_cross_entropy_with_logits(labels=labels_ph,logits=DNL_learned))\n",
    "#optimizer\n",
    "optimizer=tf.train.AdamOptimizer()\n",
    "train=optimizer.minimize(cross_entropy)\n",
    "#initiate vrables\n",
    "init=tf.global_variables_initializer()"
   ]
  },
  {
   "cell_type": "code",
   "execution_count": 44,
   "metadata": {},
   "outputs": [
    {
     "name": "stdout",
     "output_type": "stream",
     "text": [
      "step: 0\n",
      "model accuracy :  0.1022\n",
      "step: 1000\n",
      "model accuracy :  0.4984\n",
      "step: 2000\n",
      "model accuracy :  0.568\n",
      "step: 3000\n",
      "model accuracy :  0.62\n",
      "step: 4000\n",
      "model accuracy :  0.6482\n",
      "step: 5000\n",
      "model accuracy :  0.6716\n",
      "step: 6000\n",
      "model accuracy :  0.683\n",
      "step: 7000\n",
      "model accuracy :  0.657\n",
      "step: 8000\n",
      "model accuracy :  0.6846\n",
      "step: 9000\n",
      "model accuracy :  0.6894\n",
      "step: 10000\n",
      "model accuracy :  0.699\n",
      "step: 11000\n",
      "model accuracy :  0.7016\n",
      "step: 12000\n",
      "model accuracy :  0.6966\n",
      "step: 13000\n",
      "model accuracy :  0.6922\n",
      "step: 14000\n",
      "model accuracy :  0.6972\n",
      "step: 15000\n",
      "model accuracy :  0.7046\n",
      "step: 16000\n",
      "model accuracy :  0.7032\n",
      "step: 17000\n",
      "model accuracy :  0.693\n",
      "step: 18000\n",
      "model accuracy :  0.7108\n",
      "step: 19000\n",
      "model accuracy :  0.703\n",
      "step: 20000\n",
      "model accuracy :  0.712\n",
      "step: 21000\n",
      "model accuracy :  0.7104\n"
     ]
    },
    {
     "ename": "KeyboardInterrupt",
     "evalue": "",
     "output_type": "error",
     "traceback": [
      "\u001b[1;31m---------------------------------------------------------------------------\u001b[0m",
      "\u001b[1;31mKeyboardInterrupt\u001b[0m                         Traceback (most recent call last)",
      "\u001b[1;32m<ipython-input-44-a9da0d480bca>\u001b[0m in \u001b[0;36m<module>\u001b[1;34m()\u001b[0m\n\u001b[0;32m      8\u001b[0m         \u001b[0md\u001b[0m\u001b[1;33m,\u001b[0m\u001b[0ml\u001b[0m\u001b[1;33m=\u001b[0m\u001b[0mcifar10\u001b[0m\u001b[1;33m.\u001b[0m\u001b[0mnext_batch\u001b[0m\u001b[1;33m(\u001b[0m\u001b[0mbatch_size\u001b[0m\u001b[1;33m)\u001b[0m\u001b[1;33m\u001b[0m\u001b[0m\n\u001b[0;32m      9\u001b[0m \u001b[1;33m\u001b[0m\u001b[0m\n\u001b[1;32m---> 10\u001b[1;33m         \u001b[0msess\u001b[0m\u001b[1;33m.\u001b[0m\u001b[0mrun\u001b[0m\u001b[1;33m(\u001b[0m\u001b[0mtrain\u001b[0m\u001b[1;33m,\u001b[0m\u001b[0mfeed_dict\u001b[0m\u001b[1;33m=\u001b[0m\u001b[1;33m{\u001b[0m\u001b[0mimages_ph\u001b[0m\u001b[1;33m:\u001b[0m\u001b[0md\u001b[0m\u001b[1;33m,\u001b[0m\u001b[0mlabels_ph\u001b[0m\u001b[1;33m:\u001b[0m\u001b[0ml\u001b[0m\u001b[1;33m,\u001b[0m\u001b[0mdrop_out_ph\u001b[0m\u001b[1;33m:\u001b[0m\u001b[1;36m0.5\u001b[0m\u001b[1;33m}\u001b[0m\u001b[1;33m)\u001b[0m\u001b[1;33m\u001b[0m\u001b[0m\n\u001b[0m\u001b[0;32m     11\u001b[0m \u001b[1;33m\u001b[0m\u001b[0m\n\u001b[0;32m     12\u001b[0m \u001b[1;33m\u001b[0m\u001b[0m\n",
      "\u001b[1;32mC:\\Anaconda3\\envs\\tensorflowgpu\\lib\\site-packages\\tensorflow\\python\\client\\session.py\u001b[0m in \u001b[0;36mrun\u001b[1;34m(self, fetches, feed_dict, options, run_metadata)\u001b[0m\n\u001b[0;32m    875\u001b[0m     \u001b[1;32mtry\u001b[0m\u001b[1;33m:\u001b[0m\u001b[1;33m\u001b[0m\u001b[0m\n\u001b[0;32m    876\u001b[0m       result = self._run(None, fetches, feed_dict, options_ptr,\n\u001b[1;32m--> 877\u001b[1;33m                          run_metadata_ptr)\n\u001b[0m\u001b[0;32m    878\u001b[0m       \u001b[1;32mif\u001b[0m \u001b[0mrun_metadata\u001b[0m\u001b[1;33m:\u001b[0m\u001b[1;33m\u001b[0m\u001b[0m\n\u001b[0;32m    879\u001b[0m         \u001b[0mproto_data\u001b[0m \u001b[1;33m=\u001b[0m \u001b[0mtf_session\u001b[0m\u001b[1;33m.\u001b[0m\u001b[0mTF_GetBuffer\u001b[0m\u001b[1;33m(\u001b[0m\u001b[0mrun_metadata_ptr\u001b[0m\u001b[1;33m)\u001b[0m\u001b[1;33m\u001b[0m\u001b[0m\n",
      "\u001b[1;32mC:\\Anaconda3\\envs\\tensorflowgpu\\lib\\site-packages\\tensorflow\\python\\client\\session.py\u001b[0m in \u001b[0;36m_run\u001b[1;34m(self, handle, fetches, feed_dict, options, run_metadata)\u001b[0m\n\u001b[0;32m   1098\u001b[0m     \u001b[1;32mif\u001b[0m \u001b[0mfinal_fetches\u001b[0m \u001b[1;32mor\u001b[0m \u001b[0mfinal_targets\u001b[0m \u001b[1;32mor\u001b[0m \u001b[1;33m(\u001b[0m\u001b[0mhandle\u001b[0m \u001b[1;32mand\u001b[0m \u001b[0mfeed_dict_tensor\u001b[0m\u001b[1;33m)\u001b[0m\u001b[1;33m:\u001b[0m\u001b[1;33m\u001b[0m\u001b[0m\n\u001b[0;32m   1099\u001b[0m       results = self._do_run(handle, final_targets, final_fetches,\n\u001b[1;32m-> 1100\u001b[1;33m                              feed_dict_tensor, options, run_metadata)\n\u001b[0m\u001b[0;32m   1101\u001b[0m     \u001b[1;32melse\u001b[0m\u001b[1;33m:\u001b[0m\u001b[1;33m\u001b[0m\u001b[0m\n\u001b[0;32m   1102\u001b[0m       \u001b[0mresults\u001b[0m \u001b[1;33m=\u001b[0m \u001b[1;33m[\u001b[0m\u001b[1;33m]\u001b[0m\u001b[1;33m\u001b[0m\u001b[0m\n",
      "\u001b[1;32mC:\\Anaconda3\\envs\\tensorflowgpu\\lib\\site-packages\\tensorflow\\python\\client\\session.py\u001b[0m in \u001b[0;36m_do_run\u001b[1;34m(self, handle, target_list, fetch_list, feed_dict, options, run_metadata)\u001b[0m\n\u001b[0;32m   1270\u001b[0m     \u001b[1;32mif\u001b[0m \u001b[0mhandle\u001b[0m \u001b[1;32mis\u001b[0m \u001b[1;32mNone\u001b[0m\u001b[1;33m:\u001b[0m\u001b[1;33m\u001b[0m\u001b[0m\n\u001b[0;32m   1271\u001b[0m       return self._do_call(_run_fn, feeds, fetches, targets, options,\n\u001b[1;32m-> 1272\u001b[1;33m                            run_metadata)\n\u001b[0m\u001b[0;32m   1273\u001b[0m     \u001b[1;32melse\u001b[0m\u001b[1;33m:\u001b[0m\u001b[1;33m\u001b[0m\u001b[0m\n\u001b[0;32m   1274\u001b[0m       \u001b[1;32mreturn\u001b[0m \u001b[0mself\u001b[0m\u001b[1;33m.\u001b[0m\u001b[0m_do_call\u001b[0m\u001b[1;33m(\u001b[0m\u001b[0m_prun_fn\u001b[0m\u001b[1;33m,\u001b[0m \u001b[0mhandle\u001b[0m\u001b[1;33m,\u001b[0m \u001b[0mfeeds\u001b[0m\u001b[1;33m,\u001b[0m \u001b[0mfetches\u001b[0m\u001b[1;33m)\u001b[0m\u001b[1;33m\u001b[0m\u001b[0m\n",
      "\u001b[1;32mC:\\Anaconda3\\envs\\tensorflowgpu\\lib\\site-packages\\tensorflow\\python\\client\\session.py\u001b[0m in \u001b[0;36m_do_call\u001b[1;34m(self, fn, *args)\u001b[0m\n\u001b[0;32m   1276\u001b[0m   \u001b[1;32mdef\u001b[0m \u001b[0m_do_call\u001b[0m\u001b[1;33m(\u001b[0m\u001b[0mself\u001b[0m\u001b[1;33m,\u001b[0m \u001b[0mfn\u001b[0m\u001b[1;33m,\u001b[0m \u001b[1;33m*\u001b[0m\u001b[0margs\u001b[0m\u001b[1;33m)\u001b[0m\u001b[1;33m:\u001b[0m\u001b[1;33m\u001b[0m\u001b[0m\n\u001b[0;32m   1277\u001b[0m     \u001b[1;32mtry\u001b[0m\u001b[1;33m:\u001b[0m\u001b[1;33m\u001b[0m\u001b[0m\n\u001b[1;32m-> 1278\u001b[1;33m       \u001b[1;32mreturn\u001b[0m \u001b[0mfn\u001b[0m\u001b[1;33m(\u001b[0m\u001b[1;33m*\u001b[0m\u001b[0margs\u001b[0m\u001b[1;33m)\u001b[0m\u001b[1;33m\u001b[0m\u001b[0m\n\u001b[0m\u001b[0;32m   1279\u001b[0m     \u001b[1;32mexcept\u001b[0m \u001b[0merrors\u001b[0m\u001b[1;33m.\u001b[0m\u001b[0mOpError\u001b[0m \u001b[1;32mas\u001b[0m \u001b[0me\u001b[0m\u001b[1;33m:\u001b[0m\u001b[1;33m\u001b[0m\u001b[0m\n\u001b[0;32m   1280\u001b[0m       \u001b[0mmessage\u001b[0m \u001b[1;33m=\u001b[0m \u001b[0mcompat\u001b[0m\u001b[1;33m.\u001b[0m\u001b[0mas_text\u001b[0m\u001b[1;33m(\u001b[0m\u001b[0me\u001b[0m\u001b[1;33m.\u001b[0m\u001b[0mmessage\u001b[0m\u001b[1;33m)\u001b[0m\u001b[1;33m\u001b[0m\u001b[0m\n",
      "\u001b[1;32mC:\\Anaconda3\\envs\\tensorflowgpu\\lib\\site-packages\\tensorflow\\python\\client\\session.py\u001b[0m in \u001b[0;36m_run_fn\u001b[1;34m(feed_dict, fetch_list, target_list, options, run_metadata)\u001b[0m\n\u001b[0;32m   1261\u001b[0m       \u001b[0mself\u001b[0m\u001b[1;33m.\u001b[0m\u001b[0m_extend_graph\u001b[0m\u001b[1;33m(\u001b[0m\u001b[1;33m)\u001b[0m\u001b[1;33m\u001b[0m\u001b[0m\n\u001b[0;32m   1262\u001b[0m       return self._call_tf_sessionrun(\n\u001b[1;32m-> 1263\u001b[1;33m           options, feed_dict, fetch_list, target_list, run_metadata)\n\u001b[0m\u001b[0;32m   1264\u001b[0m \u001b[1;33m\u001b[0m\u001b[0m\n\u001b[0;32m   1265\u001b[0m     \u001b[1;32mdef\u001b[0m \u001b[0m_prun_fn\u001b[0m\u001b[1;33m(\u001b[0m\u001b[0mhandle\u001b[0m\u001b[1;33m,\u001b[0m \u001b[0mfeed_dict\u001b[0m\u001b[1;33m,\u001b[0m \u001b[0mfetch_list\u001b[0m\u001b[1;33m)\u001b[0m\u001b[1;33m:\u001b[0m\u001b[1;33m\u001b[0m\u001b[0m\n",
      "\u001b[1;32mC:\\Anaconda3\\envs\\tensorflowgpu\\lib\\site-packages\\tensorflow\\python\\client\\session.py\u001b[0m in \u001b[0;36m_call_tf_sessionrun\u001b[1;34m(self, options, feed_dict, fetch_list, target_list, run_metadata)\u001b[0m\n\u001b[0;32m   1348\u001b[0m     return tf_session.TF_SessionRun_wrapper(\n\u001b[0;32m   1349\u001b[0m         \u001b[0mself\u001b[0m\u001b[1;33m.\u001b[0m\u001b[0m_session\u001b[0m\u001b[1;33m,\u001b[0m \u001b[0moptions\u001b[0m\u001b[1;33m,\u001b[0m \u001b[0mfeed_dict\u001b[0m\u001b[1;33m,\u001b[0m \u001b[0mfetch_list\u001b[0m\u001b[1;33m,\u001b[0m \u001b[0mtarget_list\u001b[0m\u001b[1;33m,\u001b[0m\u001b[1;33m\u001b[0m\u001b[0m\n\u001b[1;32m-> 1350\u001b[1;33m         run_metadata)\n\u001b[0m\u001b[0;32m   1351\u001b[0m \u001b[1;33m\u001b[0m\u001b[0m\n\u001b[0;32m   1352\u001b[0m   \u001b[1;32mdef\u001b[0m \u001b[0m_call_tf_sessionprun\u001b[0m\u001b[1;33m(\u001b[0m\u001b[0mself\u001b[0m\u001b[1;33m,\u001b[0m \u001b[0mhandle\u001b[0m\u001b[1;33m,\u001b[0m \u001b[0mfeed_dict\u001b[0m\u001b[1;33m,\u001b[0m \u001b[0mfetch_list\u001b[0m\u001b[1;33m)\u001b[0m\u001b[1;33m:\u001b[0m\u001b[1;33m\u001b[0m\u001b[0m\n",
      "\u001b[1;31mKeyboardInterrupt\u001b[0m: "
     ]
    }
   ],
   "source": [
    "saver = tf.train.Saver()\n",
    "batch_size=50\n",
    "training_steps=20000 # it will see all the data twice\n",
    "with tf.Session() as sess :\n",
    "    sess.run(init)\n",
    "    for i in range(training_steps):\n",
    "        \n",
    "        d,l=cifar10.next_batch(batch_size)\n",
    "        \n",
    "        sess.run(train,feed_dict={images_ph:d,labels_ph:l,drop_out_ph:0.5})\n",
    "        \n",
    "        \n",
    "        if i % 1000 == 0:\n",
    "            matches =tf.equal(tf.argmax(DNL_learned,1),tf.arg_max(labels_ph,1))\n",
    "            accuracy=tf.reduce_mean(tf.cast(matches,tf.float32))\n",
    "            print(\"step:\",i)\n",
    "            print(\"model accuracy : \",sess.run(accuracy,feed_dict={labels_ph:testing_labels,images_ph:testing_images,drop_out_ph:1.0}))\n",
    "        \n",
    "    saver.save(sess,\"cifar10_cnn/cnn_cifar10.ckpt\")"
   ]
  },
  {
   "cell_type": "code",
   "execution_count": 38,
   "metadata": {},
   "outputs": [],
   "source": [
    "                                                       # model 5\n",
    "#placeholders\n",
    "images_ph=tf.placeholder(tf.float32,shape=[None,32,32,3],name=\"images_ph\")\n",
    "labels_ph=tf.placeholder(tf.float32,shape=[None,10],name=\"labels_ph\")\n",
    "drop_out_ph=tf.placeholder(tf.float32,name=\"drop_out_ph\")\n",
    "c1,c2,c3=30,50,80\n",
    "F1=500\n",
    "\n",
    "CNL_1=convolution_layer(images_ph,[3,3,3,c1])\n",
    "CNL_2=convolution_layer(CNL_1,[3,3,c1,c1])\n",
    "CNL_3=convolution_layer(CNL_2,[3,3,c1,c1])\n",
    "\n",
    "pool_layer_1=max_pool_2x2(CNL_3)\n",
    "\n",
    "CNL_4=convolution_layer(pool_layer_1,[3,3,c1,c2])\n",
    "CNL_5=convolution_layer(CNL_4,[3,3,c2,c2])\n",
    "CNL_6=convolution_layer(CNL_5,[3,3,c2,c2])\n",
    "\n",
    "pool_layer_2=max_pool_2x2(CNL_6)\n",
    "\n",
    "\n",
    "CNL_7=convolution_layer(pool_layer_2,[3,3,c2,c3])\n",
    "CNL_8=convolution_layer(CNL_7,[3,3,c3,c3])\n",
    "CNL_9=convolution_layer(CNL_8,[3,3,c3,c3])\n",
    "\n",
    "pool_layer_3=max_pool_2x2(CNL_9)\n",
    "\n",
    "\n",
    "\n",
    "\n",
    "\n",
    "flat_layer=tf.reshape(pool_layer_3,shape=[-1,4*4*c3])\n",
    "\n",
    "DNL_1=tf.nn.relu(fully_connected_layer(flat_layer,size=500))\n",
    "\n",
    "drop_out_layer=tf.nn.dropout(DNL_1,keep_prob=drop_out_ph)\n",
    "\n",
    "DNL_learned=fully_connected_layer(drop_out_layer,size=10)"
   ]
  },
  {
   "cell_type": "code",
   "execution_count": 39,
   "metadata": {},
   "outputs": [
    {
     "name": "stdout",
     "output_type": "stream",
     "text": [
      "WARNING:tensorflow:From <ipython-input-39-b758b911102b>:3: softmax_cross_entropy_with_logits (from tensorflow.python.ops.nn_ops) is deprecated and will be removed in a future version.\n",
      "Instructions for updating:\n",
      "\n",
      "Future major versions of TensorFlow will allow gradients to flow\n",
      "into the labels input on backprop by default.\n",
      "\n",
      "See @{tf.nn.softmax_cross_entropy_with_logits_v2}.\n",
      "\n"
     ]
    }
   ],
   "source": [
    "                                                    #tuning method\n",
    "#loss function\n",
    "cross_entropy=tf.reduce_mean(tf.nn.softmax_cross_entropy_with_logits(labels=labels_ph,logits=DNL_learned))\n",
    "#optimizer\n",
    "optimizer=tf.train.AdamOptimizer()\n",
    "train=optimizer.minimize(cross_entropy)\n",
    "#initiate vrables\n",
    "init=tf.global_variables_initializer()"
   ]
  },
  {
   "cell_type": "code",
   "execution_count": 41,
   "metadata": {},
   "outputs": [
    {
     "name": "stdout",
     "output_type": "stream",
     "text": [
      "step: 0\n",
      "model accuracy :  0.1016\n",
      "step: 1000\n",
      "model accuracy :  0.4796\n",
      "step: 2000\n",
      "model accuracy :  0.6102\n",
      "step: 3000\n",
      "model accuracy :  0.6604\n",
      "step: 4000\n",
      "model accuracy :  0.6818\n",
      "step: 5000\n",
      "model accuracy :  0.697\n",
      "step: 6000\n",
      "model accuracy :  0.7188\n",
      "step: 7000\n",
      "model accuracy :  0.7296\n",
      "step: 8000\n",
      "model accuracy :  0.7152\n",
      "step: 9000\n",
      "model accuracy :  0.74\n",
      "step: 10000\n",
      "model accuracy :  0.7342\n",
      "step: 11000\n",
      "model accuracy :  0.7564\n",
      "step: 12000\n",
      "model accuracy :  0.7472\n",
      "step: 13000\n",
      "model accuracy :  0.758\n",
      "step: 14000\n",
      "model accuracy :  0.7416\n",
      "step: 15000\n",
      "model accuracy :  0.7576\n",
      "step: 16000\n",
      "model accuracy :  0.7606\n",
      "step: 17000\n",
      "model accuracy :  0.756\n",
      "step: 18000\n",
      "model accuracy :  0.7554\n",
      "step: 19000\n",
      "model accuracy :  0.7656\n"
     ]
    }
   ],
   "source": [
    "saver = tf.train.Saver()\n",
    "batch_size=50\n",
    "training_steps=20000 # it will see all the data twice\n",
    "with tf.Session() as sess :\n",
    "    sess.run(init)\n",
    "    for i in range(training_steps):\n",
    "        \n",
    "        d,l=cifar10.next_batch(batch_size)\n",
    "        \n",
    "        sess.run(train,feed_dict={images_ph:d,labels_ph:l,drop_out_ph:0.5})\n",
    "        \n",
    "        \n",
    "        if i % 1000 == 0:\n",
    "            matches =tf.equal(tf.argmax(DNL_learned,1),tf.arg_max(labels_ph,1))\n",
    "            accuracy=tf.reduce_mean(tf.cast(matches,tf.float32))\n",
    "            print(\"step:\",i)\n",
    "            print(\"model accuracy : \",sess.run(accuracy,feed_dict={labels_ph:testing_labels,images_ph:testing_images,drop_out_ph:1.0}))\n",
    "        \n",
    "    saver.save(sess,\"cifar10_cnn/cnn_cifar10.ckpt\")"
   ]
  },
  {
   "cell_type": "code",
   "execution_count": 45,
   "metadata": {
    "collapsed": true
   },
   "outputs": [],
   "source": [
    "                                                       # model 6\n",
    "#placeholders\n",
    "images_ph=tf.placeholder(tf.float32,shape=[None,32,32,3],name=\"images_ph\")\n",
    "labels_ph=tf.placeholder(tf.float32,shape=[None,10],name=\"labels_ph\")\n",
    "drop_out_ph=tf.placeholder(tf.float32,name=\"drop_out_ph\")\n",
    "c1,c2,c3=30,50,80\n",
    "F1=500\n",
    "\n",
    "CNL_1=convolution_layer(images_ph,[3,3,3,c1] )\n",
    "CNL_2=convolution_layer(CNL_1,[3,3,c1,c1])\n",
    "CNL_3=convolution_layer(CNL_2,[3,3,c1,c1])\n",
    "\n",
    "pool_layer_1=max_pool_2x2(CNL_3)\n",
    "drop_out_layer_1=tf.nn.dropout(pool_layer_1,keep_prob=drop_out_ph)\n",
    "\n",
    "CNL_4=convolution_layer(drop_out_layer_1,[3,3,c1,c2])\n",
    "CNL_5=convolution_layer(CNL_4,[3,3,c2,c2])\n",
    "CNL_6=convolution_layer(CNL_5,[3,3,c2,c2])\n",
    "\n",
    "pool_layer_2=max_pool_2x2(CNL_6)\n",
    "drop_out_layer_2=tf.nn.dropout(pool_layer_2,keep_prob=drop_out_ph)\n",
    "\n",
    "CNL_7=convolution_layer(pool_layer_2,[3,3,c2,c3])\n",
    "CNL_8=convolution_layer(CNL_7,[3,3,c3,c3])\n",
    "CNL_9=convolution_layer(CNL_8,[3,3,c3,c3])\n",
    "\n",
    "pool_layer_3=tf.nn.max_pool(CNL_9,ksize=[1,8,8,1],strides=[1,8,8,1],padding=\"SAME\")\n",
    "\n",
    "\n",
    "\n",
    "flat_layer=tf.reshape(pool_layer_3,shape=[-1,c3])\n",
    "drop_out_layer_3=tf.nn.dropout(flat_layer,keep_prob=drop_out_ph)\n",
    "\n",
    "DNL_1=tf.nn.relu(fully_connected_layer(drop_out_layer_3,size=500))\n",
    "\n",
    "drop_out_layer=tf.nn.dropout(DNL_1,keep_prob=drop_out_ph)\n",
    "\n",
    "DNL_learned=fully_connected_layer(drop_out_layer,size=10)"
   ]
  },
  {
   "cell_type": "code",
   "execution_count": 46,
   "metadata": {
    "collapsed": true
   },
   "outputs": [],
   "source": [
    "                                                    #tuning method\n",
    "#loss function\n",
    "cross_entropy=tf.reduce_mean(tf.nn.softmax_cross_entropy_with_logits(labels=labels_ph,logits=DNL_learned))\n",
    "#optimizer\n",
    "optimizer=tf.train.AdamOptimizer()\n",
    "train=optimizer.minimize(cross_entropy)\n",
    "#initiate vrables\n",
    "init=tf.global_variables_initializer()"
   ]
  },
  {
   "cell_type": "code",
   "execution_count": 48,
   "metadata": {},
   "outputs": [
    {
     "name": "stdout",
     "output_type": "stream",
     "text": [
      "step: 0\n",
      "model accuracy :  0.0954\n",
      "step: 1000\n",
      "model accuracy :  0.318\n",
      "step: 2000\n",
      "model accuracy :  0.436\n",
      "step: 3000\n",
      "model accuracy :  0.5082\n",
      "step: 4000\n",
      "model accuracy :  0.5606\n",
      "step: 5000\n",
      "model accuracy :  0.596\n",
      "step: 6000\n",
      "model accuracy :  0.6002\n",
      "step: 7000\n",
      "model accuracy :  0.6296\n",
      "step: 8000\n",
      "model accuracy :  0.6204\n",
      "step: 9000\n",
      "model accuracy :  0.6356\n",
      "step: 10000\n",
      "model accuracy :  0.6496\n",
      "step: 11000\n",
      "model accuracy :  0.6508\n",
      "step: 12000\n",
      "model accuracy :  0.6466\n",
      "step: 13000\n",
      "model accuracy :  0.6764\n",
      "step: 14000\n",
      "model accuracy :  0.6576\n",
      "step: 15000\n",
      "model accuracy :  0.6766\n",
      "step: 16000\n",
      "model accuracy :  0.6764\n",
      "step: 17000\n",
      "model accuracy :  0.6956\n",
      "step: 18000\n",
      "model accuracy :  0.717\n",
      "step: 19000\n",
      "model accuracy :  0.7008\n",
      "step: 20000\n",
      "model accuracy :  0.704\n",
      "step: 21000\n",
      "model accuracy :  0.715\n",
      "step: 22000\n",
      "model accuracy :  0.7276\n",
      "step: 23000\n",
      "model accuracy :  0.718\n",
      "step: 24000\n",
      "model accuracy :  0.7182\n",
      "step: 25000\n",
      "model accuracy :  0.7066\n",
      "step: 26000\n",
      "model accuracy :  0.7194\n",
      "step: 27000\n",
      "model accuracy :  0.683\n",
      "step: 28000\n",
      "model accuracy :  0.7126\n",
      "step: 29000\n",
      "model accuracy :  0.734\n",
      "step: 30000\n",
      "model accuracy :  0.7168\n",
      "step: 31000\n",
      "model accuracy :  0.7108\n",
      "step: 32000\n",
      "model accuracy :  0.7164\n",
      "step: 33000\n",
      "model accuracy :  0.7124\n",
      "step: 34000\n",
      "model accuracy :  0.7408\n"
     ]
    }
   ],
   "source": [
    "saver = tf.train.Saver()\n",
    "batch_size=50\n",
    "training_steps=35000 # it will see all the data twice\n",
    "with tf.Session() as sess :\n",
    "    sess.run(init)\n",
    "    for i in range(training_steps):\n",
    "        \n",
    "        d,l=cifar10.next_batch(batch_size)\n",
    "        \n",
    "        sess.run(train,feed_dict={images_ph:d,labels_ph:l,drop_out_ph:0.5})\n",
    "        \n",
    "        \n",
    "        if i % 1000 == 0:\n",
    "            matches =tf.equal(tf.argmax(DNL_learned,1),tf.arg_max(labels_ph,1))\n",
    "            accuracy=tf.reduce_mean(tf.cast(matches,tf.float32))\n",
    "            print(\"step:\",i)\n",
    "            print(\"model accuracy : \",sess.run(accuracy,feed_dict={labels_ph:testing_labels,images_ph:testing_images,drop_out_ph:1.0}))\n",
    "        \n",
    "    saver.save(sess,\"cifar10_cnn/cnn_cifar10.ckpt\")"
   ]
  },
  {
   "cell_type": "code",
   "execution_count": 39,
   "metadata": {
    "collapsed": true
   },
   "outputs": [],
   "source": [
    "                                                       # model 7\n",
    "#placeholders\n",
    "images_ph=tf.placeholder(tf.float32,shape=[None,32,32,3],name=\"images_ph\")\n",
    "labels_ph=tf.placeholder(tf.float32,shape=[None,10],name=\"labels_ph\")\n",
    "drop_out_ph=tf.placeholder(tf.float32,name=\"drop_out_ph\")\n",
    "c1,c2,c3=30,50,80\n",
    "F1=500\n",
    "\n",
    "CNL_1=convolution_layer(images_ph,[3,3,3,c1] )\n",
    "CNL_2=convolution_layer(CNL_1,[3,3,c1,c1])\n",
    "CNL_3=convolution_layer(CNL_2,[3,3,c1,c1])\n",
    "\n",
    "pool_layer_1=max_pool_2x2(CNL_3)\n",
    "drop_out_layer_1=tf.nn.dropout(pool_layer_1,keep_prob=drop_out_ph)\n",
    "\n",
    "CNL_4=convolution_layer(drop_out_layer_1,[3,3,c1,c2])\n",
    "CNL_5=convolution_layer(CNL_4,[3,3,c2,c2])\n",
    "CNL_6=convolution_layer(CNL_5,[3,3,c2,c2])\n",
    "\n",
    "pool_layer_2=max_pool_2x2(CNL_6)\n",
    "drop_out_layer_2=tf.nn.dropout(pool_layer_2,keep_prob=drop_out_ph)\n",
    "\n",
    "CNL_7=convolution_layer(pool_layer_2,[3,3,c2,c3])\n",
    "CNL_8=convolution_layer(CNL_7,[3,3,c3,c3])\n",
    "CNL_9=convolution_layer(CNL_8,[3,3,c3,c3])\n",
    "\n",
    "\n",
    "\n",
    "\n",
    "\n",
    "flat_layer=tf.reshape(CNL_9,shape=[-1,8*8*c3])\n",
    "drop_out_layer_3=tf.nn.dropout(flat_layer,keep_prob=drop_out_ph)\n",
    "\n",
    "DNL_1=tf.nn.relu(fully_connected_layer(drop_out_layer_3,size=500))\n",
    "\n",
    "drop_out_layer=tf.nn.dropout(DNL_1,keep_prob=drop_out_ph)\n",
    "\n",
    "DNL_learned=fully_connected_layer(drop_out_layer,size=10)"
   ]
  },
  {
   "cell_type": "code",
   "execution_count": 40,
   "metadata": {},
   "outputs": [],
   "source": [
    "#loss function\n",
    "cross_entropy=tf.reduce_mean(tf.nn.softmax_cross_entropy_with_logits(labels=labels_ph,logits=DNL_learned))\n",
    "#optimizer\n",
    "optimizer=tf.train.AdamOptimizer()\n",
    "train=optimizer.minimize(cross_entropy)\n",
    "#initiate vrables\n",
    "init=tf.global_variables_initializer()"
   ]
  },
  {
   "cell_type": "code",
   "execution_count": 41,
   "metadata": {},
   "outputs": [
    {
     "name": "stdout",
     "output_type": "stream",
     "text": [
      "WARNING:tensorflow:From <ipython-input-41-c8aaa66850c8>:14: arg_max (from tensorflow.python.ops.gen_math_ops) is deprecated and will be removed in a future version.\n",
      "Instructions for updating:\n",
      "Use `argmax` instead\n",
      "step: 0\n",
      "model accuracy :  0.101\n",
      "step: 1000\n",
      "model accuracy :  0.3452\n",
      "step: 2000\n",
      "model accuracy :  0.4298\n",
      "step: 3000\n",
      "model accuracy :  0.4762\n",
      "step: 4000\n",
      "model accuracy :  0.5232\n",
      "step: 5000\n",
      "model accuracy :  0.5808\n",
      "step: 6000\n",
      "model accuracy :  0.5904\n",
      "step: 7000\n",
      "model accuracy :  0.615\n",
      "step: 8000\n",
      "model accuracy :  0.6494\n",
      "step: 9000\n",
      "model accuracy :  0.6348\n",
      "step: 10000\n",
      "model accuracy :  0.6546\n",
      "step: 11000\n",
      "model accuracy :  0.682\n",
      "step: 12000\n",
      "model accuracy :  0.6972\n",
      "step: 13000\n",
      "model accuracy :  0.699\n",
      "step: 14000\n",
      "model accuracy :  0.703\n",
      "step: 15000\n",
      "model accuracy :  0.7064\n",
      "step: 16000\n",
      "model accuracy :  0.702\n",
      "step: 17000\n",
      "model accuracy :  0.7088\n",
      "step: 18000\n",
      "model accuracy :  0.7206\n",
      "step: 19000\n",
      "model accuracy :  0.7188\n"
     ]
    }
   ],
   "source": [
    "saver = tf.train.Saver()\n",
    "batch_size=50\n",
    "training_steps=20000 # it will see all the data twice\n",
    "with tf.Session() as sess :\n",
    "    sess.run(init)\n",
    "    for i in range(training_steps):\n",
    "        \n",
    "        d,l=cifar10.next_batch(batch_size)\n",
    "        \n",
    "        sess.run(train,feed_dict={images_ph:d,labels_ph:l,drop_out_ph:0.5})\n",
    "        \n",
    "        \n",
    "        if i % 1000 == 0:\n",
    "            matches =tf.equal(tf.argmax(DNL_learned,1),tf.arg_max(labels_ph,1))\n",
    "            accuracy=tf.reduce_mean(tf.cast(matches,tf.float32))\n",
    "            print(\"step:\",i)\n",
    "            print(\"model accuracy : \",sess.run(accuracy,feed_dict={labels_ph:testing_labels,images_ph:testing_images,drop_out_ph:1.0}))\n",
    "        \n",
    "    saver.save(sess,\"cifar10_cnn/cnn_cifar10.ckpt\")"
   ]
  },
  {
   "cell_type": "code",
   "execution_count": null,
   "metadata": {
    "collapsed": true
   },
   "outputs": [],
   "source": []
  }
 ],
 "metadata": {
  "kernelspec": {
   "display_name": "Python 3",
   "language": "python",
   "name": "python3"
  },
  "language_info": {
   "codemirror_mode": {
    "name": "ipython",
    "version": 3
   },
   "file_extension": ".py",
   "mimetype": "text/x-python",
   "name": "python",
   "nbconvert_exporter": "python",
   "pygments_lexer": "ipython3",
   "version": "3.5.4"
  }
 },
 "nbformat": 4,
 "nbformat_minor": 2
}
