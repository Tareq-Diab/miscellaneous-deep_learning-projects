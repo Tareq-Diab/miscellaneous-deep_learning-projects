{
 "cells": [
  {
   "cell_type": "markdown",
   "metadata": {},
   "source": [
    "# loading data "
   ]
  },
  {
   "cell_type": "code",
   "execution_count": 1,
   "metadata": {
    "collapsed": true
   },
   "outputs": [],
   "source": [
    "import tensorflow as tf\n"
   ]
  },
  {
   "cell_type": "code",
   "execution_count": 2,
   "metadata": {
    "collapsed": true
   },
   "outputs": [],
   "source": [
    "from tensorflow.examples.tutorials.mnist import input_data"
   ]
  },
  {
   "cell_type": "code",
   "execution_count": null,
   "metadata": {
    "collapsed": true
   },
   "outputs": [],
   "source": [
    "mnist = input_data.read_data_sets(\"MNIST_data\",one_hot=True)"
   ]
  },
  {
   "cell_type": "code",
   "execution_count": 4,
   "metadata": {
    "collapsed": true
   },
   "outputs": [],
   "source": [
    "import matplotlib.pyplot as plt\n",
    "%matplotlib inline "
   ]
  },
  {
   "cell_type": "markdown",
   "metadata": {},
   "source": [
    "### showing some example of the training data"
   ]
  },
  {
   "cell_type": "code",
   "execution_count": 7,
   "metadata": {},
   "outputs": [
    {
     "data": {
      "image/png": "[encoded data removed]",
      "text/plain": [
       "<matplotlib.figure.Figure at 0x23800b92da0>"
      ]
     },
     "metadata": {},
     "output_type": "display_data"
    }
   ],
   "source": [
    "fig, axs = plt.subplots(3, 3, figsize=(10, 10))\n",
    "i=0\n",
    "for r in range(3):\n",
    "    for c in range(3):\n",
    "        axs[r,c].imshow(mnist.train.images[i].reshape([28,28]))\n",
    "        i+=1\n"
   ]
  },
  {
   "cell_type": "markdown",
   "metadata": {},
   "source": [
    "### the next batch function is desiened to iterate through data \n",
    "### every time you run the cell below another number will show up !!\n",
    "### it takes the batch size as an argument "
   ]
  },
  {
   "cell_type": "code",
   "execution_count": 8,
   "metadata": {},
   "outputs": [
    {
     "data": {
      "text/plain": [
       "<matplotlib.image.AxesImage at 0x238016c7dd8>"
      ]
     },
     "execution_count": 8,
     "metadata": {},
     "output_type": "execute_result"
    },
    {
     "data": {
      "image/png": "[encoded data removed]",
      "text/plain": [
       "<matplotlib.figure.Figure at 0x238015223c8>"
      ]
     },
     "metadata": {},
     "output_type": "display_data"
    }
   ],
   "source": [
    "import time \n",
    "x=mnist.train.next_batch(5)\n",
    "plt.imshow(x[0][1].reshape([28,28]))"
   ]
  },
  {
   "cell_type": "markdown",
   "metadata": {},
   "source": [
    "# creating the model "
   ]
  },
  {
   "cell_type": "code",
   "execution_count": 6,
   "metadata": {
    "collapsed": true
   },
   "outputs": [],
   "source": [
    "#placeholders\n",
    "images =tf.placeholder(dtype=tf.float32,shape=[None,784])#shape <-- batch size , number of features (pisels in image)\n",
    "corresponding_n=tf.placeholder(dtype=tf.float32,shape=[None,10])#shape <-- batch size , labels"
   ]
  },
  {
   "cell_type": "code",
   "execution_count": 7,
   "metadata": {
    "collapsed": true
   },
   "outputs": [],
   "source": [
    "         #variables\n",
    "    #weights\n",
    "w=tf.Variable(tf.zeros([784,10]))\n",
    "    #biases\n",
    "b=tf.Variable(tf.zeros([10]))"
   ]
  },
  {
   "cell_type": "code",
   "execution_count": 8,
   "metadata": {
    "collapsed": true
   },
   "outputs": [],
   "source": [
    "#graph operation(model)\n",
    "learned_n=tf.add(tf.matmul( images,w),b)"
   ]
  },
  {
   "cell_type": "markdown",
   "metadata": {},
   "source": [
    "$$cross entropy=-\\sum_{i=0}^\\infty L \\log{S} $$\n",
    "#####  where \n",
    "######          L is the lables (hot incoded array of 10) \n",
    "######          S is the segmoid function output  (probabilty array of 10) \n",
    "https://en.wikipedia.org/wiki/Cross_entropy"
   ]
  },
  {
   "cell_type": "code",
   "execution_count": 9,
   "metadata": {},
   "outputs": [
    {
     "name": "stdout",
     "output_type": "stream",
     "text": [
      "WARNING:tensorflow:From <ipython-input-9-2202669ef305>:2: softmax_cross_entropy_with_logits (from tensorflow.python.ops.nn_ops) is deprecated and will be removed in a future version.\n",
      "Instructions for updating:\n",
      "\n",
      "Future major versions of TensorFlow will allow gradients to flow\n",
      "into the labels input on backprop by default.\n",
      "\n",
      "See @{tf.nn.softmax_cross_entropy_with_logits_v2}.\n",
      "\n"
     ]
    }
   ],
   "source": [
    "#loss function \n",
    "cross_entropy = tf.reduce_mean(tf.nn.softmax_cross_entropy_with_logits(labels=corresponding_n,logits=learned_n))"
   ]
  },
  {
   "cell_type": "code",
   "execution_count": 10,
   "metadata": {
    "collapsed": true
   },
   "outputs": [],
   "source": [
    "# optimizer\n",
    "optmizer=tf.train.AdamOptimizer()\n",
    "train=optmizer.minimize(cross_entropy)\n",
    "saver = tf.train.Saver()"
   ]
  },
  {
   "cell_type": "code",
   "execution_count": null,
   "metadata": {
    "collapsed": true
   },
   "outputs": [],
   "source": [
    "#session\n",
    "from tqdm import tqdm\n",
    "init=tf.global_variables_initializer()\n",
    "from training_bar import learning_progress_bar\n",
    "with tf.Session() as sess:\n",
    "    sess.run(init)\n",
    "    batch_size=(100)\n",
    "    steps=1000\n",
    "    for i in  tqdm(range(steps)):\n",
    "        data,n=mnist.train.next_batch(batch_size=batch_size,shuffle=True)\n",
    "        sess.run(train,feed_dict={images:data,corresponding_n:n})# feed dict --> {plceholder: batch}\n",
    "        learning_progress_bar(steps,i)\n",
    "        tf.summary.FileWriter('Mnist_using_linear_regressor_model/g',sess.graph)\n",
    "        saver.save(sess,'Mnist_using_linear_regressor_model/first_model.ckpt')\n",
    "        \n",
    "    "
   ]
  },
  {
   "cell_type": "markdown",
   "metadata": {},
   "source": [
    "$$e^x=\\sum_{i=0}^\\infty \\frac{1}{i!}x^i$$"
   ]
  },
  {
   "cell_type": "markdown",
   "metadata": {
    "collapsed": true
   },
   "source": [
    "## restoring the model and begining the second training session"
   ]
  },
  {
   "cell_type": "code",
   "execution_count": 42,
   "metadata": {},
   "outputs": [
    {
     "name": "stdout",
     "output_type": "stream",
     "text": [
      "INFO:tensorflow:Restoring parameters from Mnist_using_linear_regressor_model/first_model.ckpt\n"
     ]
    },
    {
     "name": "stderr",
     "output_type": "stream",
     "text": [
      "100%|████████████████████████████████████████████████████████████████████████████| 10000/10000 [13:17<00:00, 13.53it/s]\n"
     ]
    },
    {
     "name": "stdout",
     "output_type": "stream",
     "text": [
      "model accuracy is :  0.9263\n",
      "[7 2 1]\n"
     ]
    }
   ],
   "source": [
    "saver = tf.train.Saver()\n",
    "from tqdm import tqdm\n",
    "with tf.Session() as sess:\n",
    "    saver.restore(sess,'Mnist_using_linear_regressor_model/first_model.ckpt')\n",
    "    \n",
    "    batch_size=(100)\n",
    "    steps=10000\n",
    "    for i in  tqdm(range(steps)):\n",
    "        data,n=mnist.train.next_batch(batch_size=batch_size,shuffle=True)\n",
    "        sess.run(train,feed_dict={images:data,corresponding_n:n})# feed dict --> {plceholder: batch}\n",
    "        saver.save(sess,'Mnist_using_linear_regressor_model/first_model.ckpt')\n",
    "    #predictions =sess.run(corresponding_n)\n",
    "    # Test the Train Model\n",
    "    matches = tf.equal(tf.argmax(learned_n,1),tf.argmax(corresponding_n,1))\n",
    "    \n",
    "    acc = tf.reduce_mean(tf.cast(matches,tf.float32))\n",
    "    \n",
    "    print(\"model accuracy is : \",sess.run(acc,feed_dict={images:mnist.test.images,corresponding_n:mnist.test.labels}))\n"
   ]
  },
  {
   "cell_type": "code",
   "execution_count": 44,
   "metadata": {},
   "outputs": [
    {
     "name": "stdout",
     "output_type": "stream",
     "text": [
      "INFO:tensorflow:Restoring parameters from Mnist_using_linear_regressor_model/first_model.ckpt\n",
      "[7 2 1 0 4 1 4 9 6 9]\n"
     ]
    }
   ],
   "source": [
    "with tf.Session() as sess:\n",
    "    saver.restore(sess,'Mnist_using_linear_regressor_model/first_model.ckpt')\n",
    "    output = tf.argmax(learned_n,1)\n",
    "    predicted=sess.run(output,feed_dict={images:mnist.test.images[0:10]})\n",
    "    print(predicted)\n",
    "    "
   ]
  },
  {
   "cell_type": "code",
   "execution_count": 74,
   "metadata": {},
   "outputs": [
    {
     "data": {
      "image/png": "[encoded data removed]",
      "text/plain": [
       "<matplotlib.figure.Figure at 0x23308479cc0>"
      ]
     },
     "metadata": {},
     "output_type": "display_data"
    }
   ],
   "source": [
    "fig, axs = plt.subplots(3, 3, figsize=(10, 10))\n",
    "#plt.imshow(mnist.test.images[i].reshape([28,28]))\n",
    "i=0\n",
    "for r in range(3):\n",
    "    for c in range(3):\n",
    "        plt.subplot(3,3,i+1).set_title(\"it's predicted to be :\"+str(predicted[i]))\n",
    "        plt.subplot(3,3,i+1).imshow(mnist.test.images[i].reshape([28,28]))\n",
    "\n",
    "        \n",
    "\n",
    "        i+=1\n"
   ]
  },
  {
   "cell_type": "code",
   "execution_count": null,
   "metadata": {
    "collapsed": true
   },
   "outputs": [],
   "source": []
  }
 ],
 "metadata": {
  "kernelspec": {
   "display_name": "Python 3",
   "language": "python",
   "name": "python3"
  },
  "language_info": {
   "codemirror_mode": {
    "name": "ipython",
    "version": 3
   },
   "file_extension": ".py",
   "mimetype": "text/x-python",
   "name": "python",
   "nbconvert_exporter": "python",
   "pygments_lexer": "ipython3",
   "version": "3.5.4"
  }
 },
 "nbformat": 4,
 "nbformat_minor": 2
}
