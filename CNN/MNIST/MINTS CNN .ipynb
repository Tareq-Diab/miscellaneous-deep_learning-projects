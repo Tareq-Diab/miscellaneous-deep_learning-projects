{
 "cells": [
  {
   "cell_type": "code",
   "execution_count": 1,
   "metadata": {
    "collapsed": true
   },
   "outputs": [],
   "source": [
    "import tensorflow as tf \n",
    "from tensorflow.examples.tutorials.mnist import input_data"
   ]
  },
  {
   "cell_type": "code",
   "execution_count": 2,
   "metadata": {},
   "outputs": [
    {
     "name": "stdout",
     "output_type": "stream",
     "text": [
      "WARNING:tensorflow:From <ipython-input-2-fb23b1a8be6b>:1: read_data_sets (from tensorflow.contrib.learn.python.learn.datasets.mnist) is deprecated and will be removed in a future version.\n",
      "Instructions for updating:\n",
      "Please use alternatives such as official/mnist/dataset.py from tensorflow/models.\n",
      "WARNING:tensorflow:From C:\\Anaconda3\\envs\\tensorflowgpu\\lib\\site-packages\\tensorflow\\contrib\\learn\\python\\learn\\datasets\\mnist.py:260: maybe_download (from tensorflow.contrib.learn.python.learn.datasets.base) is deprecated and will be removed in a future version.\n",
      "Instructions for updating:\n",
      "Please write your own downloading logic.\n",
      "WARNING:tensorflow:From C:\\Anaconda3\\envs\\tensorflowgpu\\lib\\site-packages\\tensorflow\\contrib\\learn\\python\\learn\\datasets\\mnist.py:262: extract_images (from tensorflow.contrib.learn.python.learn.datasets.mnist) is deprecated and will be removed in a future version.\n",
      "Instructions for updating:\n",
      "Please use tf.data to implement this functionality.\n",
      "Extracting MNIST_data\\train-images-idx3-ubyte.gz\n",
      "WARNING:tensorflow:From C:\\Anaconda3\\envs\\tensorflowgpu\\lib\\site-packages\\tensorflow\\contrib\\learn\\python\\learn\\datasets\\mnist.py:267: extract_labels (from tensorflow.contrib.learn.python.learn.datasets.mnist) is deprecated and will be removed in a future version.\n",
      "Instructions for updating:\n",
      "Please use tf.data to implement this functionality.\n",
      "Extracting MNIST_data\\train-labels-idx1-ubyte.gz\n",
      "WARNING:tensorflow:From C:\\Anaconda3\\envs\\tensorflowgpu\\lib\\site-packages\\tensorflow\\contrib\\learn\\python\\learn\\datasets\\mnist.py:110: dense_to_one_hot (from tensorflow.contrib.learn.python.learn.datasets.mnist) is deprecated and will be removed in a future version.\n",
      "Instructions for updating:\n",
      "Please use tf.one_hot on tensors.\n",
      "Extracting MNIST_data\\t10k-images-idx3-ubyte.gz\n",
      "Extracting MNIST_data\\t10k-labels-idx1-ubyte.gz\n",
      "WARNING:tensorflow:From C:\\Anaconda3\\envs\\tensorflowgpu\\lib\\site-packages\\tensorflow\\contrib\\learn\\python\\learn\\datasets\\mnist.py:290: DataSet.__init__ (from tensorflow.contrib.learn.python.learn.datasets.mnist) is deprecated and will be removed in a future version.\n",
      "Instructions for updating:\n",
      "Please use alternatives such as official/mnist/dataset.py from tensorflow/models.\n"
     ]
    }
   ],
   "source": [
    "mnist=input_data.read_data_sets(train_dir=\"MNIST_data\",one_hot=True)"
   ]
  },
  {
   "cell_type": "code",
   "execution_count": 3,
   "metadata": {
    "collapsed": true
   },
   "outputs": [],
   "source": [
    "import matplotlib.pyplot as plt\n",
    "%matplotlib inline "
   ]
  },
  {
   "cell_type": "markdown",
   "metadata": {},
   "source": [
    "# showing some example of the training data"
   ]
  },
  {
   "cell_type": "code",
   "execution_count": 4,
   "metadata": {},
   "outputs": [
    {
     "data": {
      "image/png": "[encoded data removed]",
      "text/plain": [
       "<matplotlib.figure.Figure at 0x2c185330588>"
      ]
     },
     "metadata": {},
     "output_type": "display_data"
    }
   ],
   "source": [
    "fig, axs = plt.subplots(3, 3, figsize=(10, 10))\n",
    "i=0\n",
    "for r in range(3):\n",
    "    for c in range(3):\n",
    "        axs[r,c].imshow(mnist.train.images[i].reshape([28,28]))\n",
    "        i+=1\n"
   ]
  },
  {
   "cell_type": "markdown",
   "metadata": {},
   "source": [
    "# creating the helper functions"
   ]
  },
  {
   "cell_type": "code",
   "execution_count": null,
   "metadata": {
    "collapsed": true
   },
   "outputs": [],
   "source": [
    "#INIT WEIGHTS\n",
    "def init_weights(shape,stddev=0.1):\n",
    "    #shape:  shape of the weight matrix\n",
    "    #stddev: the standard deviation of the gausian random itialization of weights\n",
    "    init_random_matrix=tf.truncated_normal(shape=shape,stddev=0.1)\n",
    "    return tf.Variable(initial_value=init_random_matrix)\n",
    "#pass"
   ]
  },
  {
   "cell_type": "code",
   "execution_count": null,
   "metadata": {
    "collapsed": true
   },
   "outputs": [],
   "source": [
    "# INIT BIAS\n",
    "def init_bias(shape):\n",
    "    init_bias_vals=tf.constant(value=0.1,shape=shape)\n",
    "    return tf.Variable(initial_value=init_bias_vals)"
   ]
  },
  {
   "cell_type": "code",
   "execution_count": null,
   "metadata": {
    "collapsed": true
   },
   "outputs": [],
   "source": [
    "#CONV2D\n",
    "def conv2d(input_tensor,kernal_weights,strides=[1,1,1,1]):\n",
    "    #input_tensor is the image or a convoulution of image , it takes[batch_size,Heigh,Width,Color_Channels]\n",
    "    \n",
    "    #Kernal it is the filter representing the convolution layer , it takes [filter H ,filter W,Channels IN,CHANNELS OUT]\n",
    "    \n",
    "    #Channels IN : when dealling with input from image it's channels will be 3  which are the colors, but when dealing with \n",
    "    #input from convolution the channels will be layers of abstracted featers filtered by the previously constracted convolution\n",
    "    \n",
    "    #Channel OUT is the number of filters where :(every filter will output or recogize single feature )\n",
    "    #strides shifting the cernal by stride number of pixels\n",
    "    return tf.nn.conv2d(input=input_tensor,filter=kernal_weights,strides=strides,padding='SAME')\n",
    "#pass"
   ]
  },
  {
   "cell_type": "code",
   "execution_count": null,
   "metadata": {
    "collapsed": true
   },
   "outputs": [],
   "source": [
    "#POOLING\n",
    "def max_pool_2by2(input_tensor):\n",
    "    #input_tensor is the image or a convoulution of image , it takes[batch_size,Heigh,Width,Color_Channels]\n",
    "    return tf.nn.max_pool(input_tensor,ksize=[1,2,2,1],strides=[1,2,2,1],padding='SAME')\n",
    "    #[1,2,2,1] to max pool by value of 2x2 pixels but not pooling from 2 ifferey batches or channels\n",
    "\n",
    "#pass"
   ]
  },
  {
   "cell_type": "code",
   "execution_count": null,
   "metadata": {
    "collapsed": true
   },
   "outputs": [],
   "source": [
    "#convolution layer\n",
    "def convolution_layer(input_tensor,kernal):\n",
    "    w=init_weights(kernal)\n",
    "    b=init_bias([kernal[3]])\n",
    "    return tf.nn.relu(conv2d(input_tensor,w)+b)\n",
    "#pass"
   ]
  },
  {
   "cell_type": "code",
   "execution_count": null,
   "metadata": {
    "collapsed": true
   },
   "outputs": [],
   "source": [
    "# fully connected layer\n",
    "#this layers takes the featerures abstracted by the convoulution layer and make the ordinary classification on it \n",
    "def fully_connected_layer(input_tensor,size):\n",
    "    \"\"\"\n",
    "    #Kernal it is the filter representing the convolution layer , it takes [filter H ,filter W,Channels IN,CHANNELS OUT]\n",
    "    \n",
    "    #Channels IN : when dealling with input from image it's channels will be 3  which are the colors, but when dealing with \n",
    "    #input from convolution the channels will be layers of abstracted featers filtered by the previously constracted convolution\n",
    "    \n",
    "    #Channel OUT is the number of filters where :(every filter will output or recogize single feature )\n",
    "    \"\"\"\n",
    "    input_shape=int(input_tensor.get_shape()[1])\n",
    "    \n",
    "    w=init_weights([input_shape,size])\n",
    "    b=init_bias(shape=[size])\n",
    "    return tf.add(tf.matmul(input_tensor,w),b)\n",
    "#pass"
   ]
  },
  {
   "cell_type": "markdown",
   "metadata": {},
   "source": [
    "# CREATING THE MODEL"
   ]
  },
  {
   "cell_type": "code",
   "execution_count": null,
   "metadata": {
    "collapsed": true
   },
   "outputs": [],
   "source": [
    "#placeholders\n",
    "in_images=tf.placeholder(tf.float32,shape=[None,784])\n",
    "real_n=tf.placeholder(tf.float32,shape=[None,10])\n",
    "drop_out_ph=tf.placeholder(tf.float32)\n",
    "#pass"
   ]
  },
  {
   "cell_type": "code",
   "execution_count": null,
   "metadata": {
    "collapsed": true
   },
   "outputs": [],
   "source": [
    "# LAYERS (model)\n",
    "reshaped_image=tf.reshape(in_images,[-1,28,28,1])\n",
    "#[-1,28,28,1]\n",
    "#-1 for unknown batch size\n",
    "#28,28 the  image size\n",
    "#1 for the color channel shape 1 for gray scale as the data sit is in gray scale\n",
    "\n",
    "CNL_1=convolution_layer(reshaped_image,kernal=[6,6,1,32])\n",
    "pooling_layer1=max_pool_2by2(CNL_1)\n",
    "\n",
    "\n",
    "\n",
    "CNL_2=convolution_layer(pooling_layer1,kernal=[6,6,32,64])\n",
    "pooling_layer2=max_pool_2by2(CNL_2)\n",
    "\n",
    "pooling2flat=tf.reshape(pooling_layer2,[-1,7*7*64])#-1 batch size #784 image size  # 2*2 number of pooling *2 #64 n of features  \n",
    "DNN_1=tf.nn.relu( fully_connected_layer(pooling2flat,1024))\n",
    "drop_out_DNN_1=tf.nn.dropout(DNN_1,keep_prob=drop_out_ph)\n",
    "DNN_learned_n=fully_connected_layer(drop_out_DNN_1,10)\n",
    "#pass\n",
    "\n"
   ]
  },
  {
   "cell_type": "markdown",
   "metadata": {},
   "source": [
    "$$cross entropy=-\\sum_{i=0}^\\infty L \\log{S} $$\n",
    "#####  where \n",
    "######          L is the lables (hot incoded array of 10) \n",
    "######          S is the segmoid function output  (probabilty array of 10) \n",
    "https://en.wikipedia.org/wiki/Cross_entropy"
   ]
  },
  {
   "cell_type": "code",
   "execution_count": 54,
   "metadata": {
    "collapsed": true
   },
   "outputs": [],
   "source": [
    "# LOSS FUNCTION\n",
    "cross_entropy = tf.reduce_mean(tf.nn.softmax_cross_entropy_with_logits(labels=real_n,logits=DNN_learned_n))"
   ]
  },
  {
   "cell_type": "code",
   "execution_count": 57,
   "metadata": {
    "collapsed": true
   },
   "outputs": [],
   "source": [
    "# OPTIMIZER\n",
    "optimizer=tf.train.AdamOptimizer()\n",
    "\n",
    "train=optimizer.minimize(cross_entropy)"
   ]
  },
  {
   "cell_type": "code",
   "execution_count": 58,
   "metadata": {},
   "outputs": [
    {
     "name": "stdout",
     "output_type": "stream",
     "text": [
      "step: 0\n",
      "model accuracy :  0.1031\n",
      "step: 100\n",
      "model accuracy :  0.9424\n",
      "step: 200\n",
      "model accuracy :  0.9606\n",
      "step: 300\n",
      "model accuracy :  0.9683\n",
      "step: 400\n",
      "model accuracy :  0.9721\n",
      "step: 500\n",
      "model accuracy :  0.972\n",
      "step: 600\n",
      "model accuracy :  0.9774\n",
      "step: 700\n",
      "model accuracy :  0.9777\n",
      "step: 800\n",
      "model accuracy :  0.9793\n",
      "step: 900\n",
      "model accuracy :  0.9834\n",
      "step: 1000\n",
      "model accuracy :  0.9853\n",
      "step: 1100\n",
      "model accuracy :  0.984\n",
      "step: 1200\n",
      "model accuracy :  0.984\n",
      "step: 1300\n",
      "model accuracy :  0.9861\n",
      "step: 1400\n",
      "model accuracy :  0.9868\n",
      "step: 1500\n",
      "model accuracy :  0.985\n",
      "step: 1600\n",
      "model accuracy :  0.9839\n",
      "step: 1700\n",
      "model accuracy :  0.9856\n",
      "step: 1800\n",
      "model accuracy :  0.9856\n",
      "step: 1900\n",
      "model accuracy :  0.9836\n",
      "step: 2000\n",
      "model accuracy :  0.9859\n",
      "step: 2100\n",
      "model accuracy :  0.9871\n",
      "step: 2200\n",
      "model accuracy :  0.9863\n",
      "step: 2300\n",
      "model accuracy :  0.9852\n",
      "step: 2400\n",
      "model accuracy :  0.9883\n",
      "step: 2500\n",
      "model accuracy :  0.9879\n",
      "step: 2600\n",
      "model accuracy :  0.9904\n",
      "step: 2700\n",
      "model accuracy :  0.9887\n",
      "step: 2800\n",
      "model accuracy :  0.9883\n",
      "step: 2900\n",
      "model accuracy :  0.9899\n",
      "step: 3000\n",
      "model accuracy :  0.9897\n",
      "step: 3100\n",
      "model accuracy :  0.9896\n",
      "step: 3200\n",
      "model accuracy :  0.9869\n",
      "step: 3300\n",
      "model accuracy :  0.9889\n",
      "step: 3400\n",
      "model accuracy :  0.9902\n",
      "step: 3500\n",
      "model accuracy :  0.9868\n",
      "step: 3600\n",
      "model accuracy :  0.9907\n",
      "step: 3700\n",
      "model accuracy :  0.9899\n",
      "step: 3800\n",
      "model accuracy :  0.9892\n",
      "step: 3900\n",
      "model accuracy :  0.9886\n",
      "step: 4000\n",
      "model accuracy :  0.9873\n",
      "step: 4100\n",
      "model accuracy :  0.9902\n",
      "step: 4200\n",
      "model accuracy :  0.9907\n",
      "step: 4300\n",
      "model accuracy :  0.9876\n",
      "step: 4400\n",
      "model accuracy :  0.9896\n",
      "step: 4500\n",
      "model accuracy :  0.9872\n",
      "step: 4600\n",
      "model accuracy :  0.9891\n",
      "step: 4700\n",
      "model accuracy :  0.99\n",
      "step: 4800\n",
      "model accuracy :  0.9892\n",
      "step: 4900\n",
      "model accuracy :  0.9915\n"
     ]
    }
   ],
   "source": [
    "#SESSION\n",
    "saver = tf.train.Saver()\n",
    "from tqdm import tqdm\n",
    "init=tf.global_variables_initializer()\n",
    "with tf.Session() as sess:\n",
    "    sess.run(init)\n",
    "    steps = 5000\n",
    "    batch_size=100\n",
    "    for i in range(steps):\n",
    "        img,labels = mnist.train.next_batch(50)\n",
    "        \n",
    "        sess.run(train,feed_dict={in_images:img,real_n:labels,drop_out_ph:0.5})\n",
    "        \n",
    "        if i % 100 == 0:\n",
    "            matches =tf.equal(tf.argmax(DNN_learned_n,1),tf.arg_max(real_n,1))\n",
    "            accuracy=tf.reduce_mean(tf.cast(matches,tf.float32))\n",
    "            print(\"step:\",i)\n",
    "            print(\"model accuracy : \",sess.run(accuracy,feed_dict={real_n:mnist.test.labels,in_images:mnist.test.images,drop_out_ph:1.0}))\n",
    "        \n",
    "    saver.save(sess,\"mnist_cnn/cnn_mnist.ckpt\")\n",
    "    "
   ]
  },
  {
   "cell_type": "code",
   "execution_count": 59,
   "metadata": {},
   "outputs": [
    {
     "name": "stdout",
     "output_type": "stream",
     "text": [
      "INFO:tensorflow:Restoring parameters from mnist_cnn/cnn_mnist.ckpt\n",
      "[7 2 1 0 4 1 4 9 5 9]\n"
     ]
    }
   ],
   "source": [
    "with tf.Session() as sess:\n",
    "    saver.restore(sess,\"mnist_cnn/cnn_mnist.ckpt\")\n",
    "    output = tf.argmax(DNN_learned_n,1)\n",
    "    predicted=sess.run(output,feed_dict={in_images:mnist.test.images[0:10],drop_out_ph:1.0})\n",
    "    print(predicted)\n",
    "    "
   ]
  },
  {
   "cell_type": "code",
   "execution_count": 60,
   "metadata": {},
   "outputs": [
    {
     "data": {
      "image/png": "[encoded data removed]",
      "text/plain": [
       "<matplotlib.figure.Figure at 0x2c284bba240>"
      ]
     },
     "metadata": {},
     "output_type": "display_data"
    }
   ],
   "source": [
    "fig, axs = plt.subplots(3, 3, figsize=(10, 10))\n",
    "#plt.imshow(mnist.test.images[i].reshape([28,28]))\n",
    "i=0\n",
    "for r in range(3):\n",
    "    for c in range(3):\n",
    "        plt.subplot(3,3,i+1).set_title(\"it's predicted to be :\"+str(predicted[i]))\n",
    "        plt.subplot(3,3,i+1).imshow(mnist.test.images[i].reshape([28,28]))\n",
    "\n",
    "        \n",
    "\n",
    "        i+=1"
   ]
  },
  {
   "cell_type": "code",
   "execution_count": null,
   "metadata": {
    "collapsed": true
   },
   "outputs": [],
   "source": []
  }
 ],
 "metadata": {
  "kernelspec": {
   "display_name": "Python 3",
   "language": "python",
   "name": "python3"
  },
  "language_info": {
   "codemirror_mode": {
    "name": "ipython",
    "version": 3
   },
   "file_extension": ".py",
   "mimetype": "text/x-python",
   "name": "python",
   "nbconvert_exporter": "python",
   "pygments_lexer": "ipython3",
   "version": "3.5.4"
  }
 },
 "nbformat": 4,
 "nbformat_minor": 2
}
